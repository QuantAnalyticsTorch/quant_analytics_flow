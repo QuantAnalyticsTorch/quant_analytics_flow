{
  "nbformat": 4,
  "nbformat_minor": 0,
  "metadata": {
    "colab": {
      "name": "WienerPathTensorflow.ipynb",
      "provenance": [],
      "collapsed_sections": [],
      "authorship_tag": "ABX9TyONt0tcQSDFBGxyYAn4kr0h",
      "include_colab_link": true
    },
    "kernelspec": {
      "name": "python3",
      "display_name": "Python 3",
      "language": "python"
    }
  },
  "cells": [
    {
      "cell_type": "markdown",
      "metadata": {
        "id": "view-in-github",
        "colab_type": "text"
      },
      "source": [
        "<a href=\"https://colab.research.google.com/github/QuantAnalyticsTorch/quant_analytics_torch/blob/main/examples/WienerPathTensorflow.ipynb\" target=\"_parent\"><img src=\"https://colab.research.google.com/assets/colab-badge.svg\" alt=\"Open In Colab\"/></a>"
      ]
    },
    {
      "cell_type": "code",
      "execution_count": 15,
      "metadata": {},
      "outputs": [],
      "source": [
        "import tensorflow as tf\n",
        "\n",
        "from quant_analytics_flow.analytics.norminv import norminv\n",
        "from quant_analytics_flow.calculators.univariatebrownianbridge import UnivariateBrownianBridge\n"
      ]
    },
    {
      "cell_type": "code",
      "metadata": {
        "colab": {
          "base_uri": "https://localhost:8080/"
        },
        "id": "T4aaEAgiVAvA",
        "outputId": "878221cf-1ae4-4c26-a680-27c0e9339591"
      },
      "source": [
        "#@title Pricing time a CPU. Note TensorFlow does automatic multithreading.\n",
        "dim =  2#@param {type:\"integer\"}\n",
        "number =  7#@param {type:\"integer\"}\n",
        "\n",
        "brownian = UnivariateBrownianBridge(dim)\n",
        "\n",
        "x = tf.math.sobol_sample(dim,number,dtype=tf.dtypes.float64)\n",
        "x = tf.transpose(x)\n",
        "y = tf.reshape(x, shape=(dim,1,number))\n",
        "z = norminv(y)\n",
        "\n",
        "print(z)\n",
        "print(brownian.path(z, False))\n",
        "print(brownian.path(z, True))"
      ],
      "execution_count": 16,
      "outputs": [
        {
          "output_type": "stream",
          "name": "stdout",
          "text": [
            "tf.Tensor(\n",
            "[[[ 0.          0.67448975 -0.67448975 -0.31863936  1.15034938\n",
            "    0.31863936 -1.15034938]]\n",
            "\n",
            " [[ 0.         -0.67448975  0.67448975 -0.31863936  1.15034938\n",
            "   -1.15034938  0.31863936]]], shape=(2, 1, 7), dtype=float64)\n",
            "tf.Tensor(\n",
            "[[[ 0.00000000e+00  0.00000000e+00 -0.00000000e+00 -0.00000000e+00\n",
            "    0.00000000e+00  0.00000000e+00 -0.00000000e+00]]\n",
            "\n",
            " [[ 0.00000000e+00 -2.44760480e-17  2.44760480e-17 -4.50624110e-01\n",
            "    1.62683970e+00 -5.88107793e-01 -5.88107793e-01]]\n",
            "\n",
            " [[ 0.00000000e+00  9.53872552e-01 -9.53872552e-01 -4.50624110e-01\n",
            "    1.62683970e+00  4.50624110e-01 -1.62683970e+00]]], shape=(3, 1, 7), dtype=float64)\n",
            "tf.Tensor(\n",
            "[[[ 0.00000000e+00 -2.44760480e-17  2.44760480e-17 -4.50624110e-01\n",
            "    1.62683970e+00 -5.88107793e-01 -5.88107793e-01]]\n",
            "\n",
            " [[ 0.00000000e+00  9.53872552e-01 -9.53872552e-01  0.00000000e+00\n",
            "    0.00000000e+00  1.03873190e+00 -1.03873190e+00]]\n",
            "\n",
            " [[ 0.00000000e+00  9.53872552e-01 -9.53872552e-01 -4.50624110e-01\n",
            "    1.62683970e+00  4.50624110e-01 -1.62683970e+00]]], shape=(3, 1, 7), dtype=float64)\n"
          ]
        }
      ]
    },
    {
      "cell_type": "code",
      "execution_count": 18,
      "metadata": {},
      "outputs": [],
      "source": [
        "import time"
      ]
    },
    {
      "cell_type": "code",
      "execution_count": 23,
      "metadata": {},
      "outputs": [
        {
          "output_type": "execute_result",
          "data": {
            "text/plain": [
              "''"
            ]
          },
          "metadata": {},
          "execution_count": 23
        }
      ],
      "source": [
        "device_name = tf.test.gpu_device_name()"
      ]
    },
    {
      "cell_type": "code",
      "metadata": {
        "colab": {
          "base_uri": "https://localhost:8080/"
        },
        "id": "R_7zunY3VQxR",
        "outputId": "7355c803-630d-4898-9490-77e038e715d7"
      },
      "source": [
        "#@title Pricing time a CPU. Note TensorFlow does automatic multithreading.\n",
        "dim =  256#@param {type:\"integer\"}\n",
        "number =  200000#@param {type:\"integer\"}\n",
        "\n",
        "time_start = time.time()\n",
        "with tf.device(\"/cpu:0\"):\n",
        "    brownian = UnivariateBrownianBridge(dim)\n",
        "    x = tf.math.sobol_sample(dim,number,dtype=tf.dtypes.float64)\n",
        "    x = tf.transpose(x)\n",
        "    y = tf.reshape(x, shape=(dim,1,number))\n",
        "    z = norminv(y)\n",
        "    w = brownian.path(z, True)\n",
        "time_end = time.time()\n",
        "time_price_cpu = time_end - time_start\n",
        "print(\"Runtime on CPU: \", time_price_cpu)"
      ],
      "execution_count": 80,
      "outputs": [
        {
          "output_type": "stream",
          "name": "stdout",
          "text": [
            "Runtime on CPU:  1.2129936218261719\n"
          ]
        }
      ]
    },
    {
      "cell_type": "code",
      "execution_count": 81,
      "metadata": {},
      "outputs": [
        {
          "output_type": "stream",
          "name": "stdout",
          "text": [
            "Runtime on CPU:  1.7069647312164307\n"
          ]
        }
      ],
      "source": [
        "from quant_analytics_flow.calculators.multivariatebrownianbridge import MultivariateBrownianBridge\n",
        "\n",
        "rho = tf.Variable(0.5, dtype=tf.float64, name='rho')\n",
        "\n",
        "times =  128#@param {type:\"integer\"}\n",
        "number =  200000#@param {type:\"integer\"}\n",
        "\n",
        "time_start = time.time()\n",
        "\n",
        "with tf.GradientTape() as tape:\n",
        "    with tf.device(\"/cpu:0\"):\n",
        "        fm = [[1.,rho],[rho,1.]]\n",
        "        fwdCov = tf.TensorArray(dtype=tf.float64, size = times)\n",
        "        fwdCov = fwdCov.write(0,fm)\n",
        "        fwdCov = fwdCov.write(1,fm)\n",
        "        fwdCov = fwdCov.write(2,fm)        \n",
        "\n",
        "        multivariate_bridge = MultivariateBrownianBridge(fwdCov.stack())\n",
        "        w = multivariate_bridge.path(number)\n",
        "\n",
        "time_end = time.time()\n",
        "time_price_cpu = time_end - time_start\n",
        "print(\"Runtime on CPU: \", time_price_cpu)        "
      ]
    },
    {
      "cell_type": "code",
      "execution_count": 72,
      "metadata": {},
      "outputs": [
        {
          "output_type": "stream",
          "name": "stdout",
          "text": [
            "Runtime on CPU:  0.03499865531921387\n"
          ]
        }
      ],
      "source": [
        "time_start = time.time()\n",
        "\n",
        "dw_drho = tape.gradient(w[0], rho)\n",
        "\n",
        "time_end = time.time()\n",
        "time_price_cpu = time_end - time_start\n",
        "print(\"Runtime on CPU: \", time_price_cpu)\n",
        "\n",
        "dw_drho"
      ]
    }
  ]
}