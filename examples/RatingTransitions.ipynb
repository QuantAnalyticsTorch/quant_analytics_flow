{
  "nbformat": 4,
  "nbformat_minor": 0,
  "metadata": {
    "colab": {
      "name": "WienerPathTensorflow.ipynb",
      "provenance": [],
      "collapsed_sections": [],
      "authorship_tag": "ABX9TyONt0tcQSDFBGxyYAn4kr0h",
      "include_colab_link": true
    },
    "kernelspec": {
      "name": "python3",
      "display_name": "Python 3",
      "language": "python"
    }
  },
  "cells": [
    {
      "cell_type": "code",
      "execution_count": 1,
      "metadata": {},
      "outputs": [
        {
          "output_type": "stream",
          "name": "stdout",
          "text": [
            "Python version\n3.7.3 (v3.7.3:ef4ec6ed12, Mar 25 2019, 22:22:05) [MSC v.1916 64 bit (AMD64)]\nVersion info.\nsys.version_info(major=3, minor=7, micro=3, releaselevel='final', serial=0)\n"
          ]
        }
      ],
      "source": [
        "import sys\n",
        "print(\"Python version\")\n",
        "print (sys.version)\n",
        "print(\"Version info.\")\n",
        "print (sys.version_info)"
      ]
    },
    {
      "cell_type": "code",
      "metadata": {
        "id": "xNps9GlNUu5j"
      },
      "source": [
        "import tensorflow as tf\n",
        "from scipy.linalg import logm, expm\n",
        "import numpy as np\n",
        "import time\n",
        "import math"
      ],
      "execution_count": 2,
      "outputs": []
    },
    {
      "cell_type": "code",
      "execution_count": 3,
      "metadata": {},
      "outputs": [],
      "source": [
        "SQRT_2 = tf.sqrt(tf.constant(2.,dtype=tf.float64))\n",
        "\n",
        "def norminv(x):\n",
        "    return SQRT_2*tf.math.erfinv(2*(x-0.5))"
      ]
    },
    {
      "cell_type": "code",
      "execution_count": 4,
      "metadata": {},
      "outputs": [
        {
          "output_type": "execute_result",
          "data": {
            "text/plain": [
              "array([[0.8, 0.1, 0.1],\n",
              "       [0.1, 0.8, 0.1],\n",
              "       [0. , 0. , 1. ]])"
            ]
          },
          "metadata": {},
          "execution_count": 4
        }
      ],
      "source": [
        "P = np.array([[0.8, 0.1, 0.1],[0.1,0.8,0.1],[0.,0.,1.]])\n",
        "P"
      ]
    },
    {
      "cell_type": "code",
      "execution_count": 6,
      "metadata": {},
      "outputs": [
        {
          "output_type": "execute_result",
          "data": {
            "text/plain": [
              "array([[-0.23101773,  0.12565721,  0.10536052],\n",
              "       [ 0.12565721, -0.23101773,  0.10536052],\n",
              "       [ 0.        ,  0.        ,  0.        ]])"
            ]
          },
          "metadata": {},
          "execution_count": 6
        }
      ],
      "source": [
        "L = logm(P)\n",
        "L"
      ]
    },
    {
      "cell_type": "code",
      "execution_count": 7,
      "metadata": {},
      "outputs": [],
      "source": [
        "def P_t(L,t):\n",
        "    return expm(L*t)"
      ]
    },
    {
      "cell_type": "code",
      "execution_count": 8,
      "metadata": {},
      "outputs": [
        {
          "output_type": "execute_result",
          "data": {
            "text/plain": [
              "array([[0.65, 0.16, 0.19],\n",
              "       [0.16, 0.65, 0.19],\n",
              "       [0.  , 0.  , 1.  ]])"
            ]
          },
          "metadata": {},
          "execution_count": 8
        }
      ],
      "source": [
        "P_t(L,2.)"
      ]
    },
    {
      "cell_type": "code",
      "execution_count": 9,
      "metadata": {},
      "outputs": [
        {
          "output_type": "execute_result",
          "data": {
            "text/plain": [
              "array([[0.64, 0.01, 0.01],\n",
              "       [0.01, 0.64, 0.01],\n",
              "       [0.  , 0.  , 1.  ]])"
            ]
          },
          "metadata": {},
          "execution_count": 9
        }
      ],
      "source": [
        "P*P"
      ]
    },
    {
      "cell_type": "code",
      "execution_count": 10,
      "metadata": {},
      "outputs": [
        {
          "output_type": "execute_result",
          "data": {
            "text/plain": [
              "array([[0.65, 0.16, 0.19],\n",
              "       [0.16, 0.65, 0.19],\n",
              "       [0.  , 0.  , 1.  ]])"
            ]
          },
          "metadata": {},
          "execution_count": 10
        }
      ],
      "source": [
        "np.matmul(P,P)"
      ]
    },
    {
      "cell_type": "code",
      "execution_count": 12,
      "metadata": {},
      "outputs": [
        {
          "output_type": "execute_result",
          "data": {
            "text/plain": [
              "array([[0.89267166, 0.05601164, 0.0513167 ],\n",
              "       [0.05601164, 0.89267166, 0.0513167 ],\n",
              "       [0.        , 0.        , 1.        ]])"
            ]
          },
          "metadata": {},
          "execution_count": 12
        }
      ],
      "source": [
        "pt = P_t(L,0.5)\n",
        "pt"
      ]
    },
    {
      "cell_type": "code",
      "execution_count": 21,
      "metadata": {},
      "outputs": [
        {
          "output_type": "execute_result",
          "data": {
            "text/plain": [
              "array([0.00392163, 0.99607837, 0.        ])"
            ]
          },
          "metadata": {},
          "execution_count": 21
        }
      ],
      "source": [
        "v = pt[:,1]*pt[1,:]/P[1,1]\n",
        "v"
      ]
    },
    {
      "cell_type": "code",
      "execution_count": 35,
      "metadata": {},
      "outputs": [
        {
          "output_type": "execute_result",
          "data": {
            "text/plain": [
              "array([[0.7968627 , 0.05      , 0.04580897],\n",
              "       [0.05      , 0.7968627 , 0.04580897],\n",
              "       [0.        , 0.        , 0.89267166],\n",
              "       [0.05      , 0.0031373 , 0.00287433],\n",
              "       [0.0031373 , 0.05      , 0.00287433],\n",
              "       [0.        , 0.        , 0.05601164],\n",
              "       [0.04580897, 0.00287433, 0.0026334 ],\n",
              "       [0.00287433, 0.04580897, 0.0026334 ],\n",
              "       [0.        , 0.        , 0.0513167 ],\n",
              "       [0.05      , 0.0031373 , 0.00287433],\n",
              "       [0.0031373 , 0.05      , 0.00287433],\n",
              "       [0.        , 0.        , 0.05601164],\n",
              "       [0.7968627 , 0.05      , 0.04580897],\n",
              "       [0.05      , 0.7968627 , 0.04580897],\n",
              "       [0.        , 0.        , 0.89267166],\n",
              "       [0.04580897, 0.00287433, 0.0026334 ],\n",
              "       [0.00287433, 0.04580897, 0.0026334 ],\n",
              "       [0.        , 0.        , 0.0513167 ],\n",
              "       [0.        , 0.        , 0.        ],\n",
              "       [0.        , 0.        , 0.        ],\n",
              "       [0.        , 0.        , 0.        ],\n",
              "       [0.        , 0.        , 0.        ],\n",
              "       [0.        , 0.        , 0.        ],\n",
              "       [0.        , 0.        , 0.        ],\n",
              "       [0.89267166, 0.05601164, 0.0513167 ],\n",
              "       [0.05601164, 0.89267166, 0.0513167 ],\n",
              "       [0.        , 0.        , 1.        ]])"
            ]
          },
          "metadata": {},
          "execution_count": 35
        }
      ],
      "source": [
        "np.outer(pt,pt).reshape(-1,3)"
      ]
    },
    {
      "cell_type": "code",
      "execution_count": 46,
      "metadata": {},
      "outputs": [],
      "source": [
        "def f(x,y):\n",
        "    print(x,y)\n",
        "    return np.array(x*y)"
      ]
    },
    {
      "cell_type": "code",
      "execution_count": 50,
      "metadata": {},
      "outputs": [
        {
          "output_type": "execute_result",
          "data": {
            "text/plain": [
              "array([[[[0.7968627 , 0.05      , 0.        ],\n",
              "         [0.05      , 0.7968627 , 0.        ],\n",
              "         [0.04580897, 0.04580897, 0.89267166]],\n",
              "\n",
              "        [[0.05      , 0.0031373 , 0.        ],\n",
              "         [0.0031373 , 0.05      , 0.        ],\n",
              "         [0.00287433, 0.00287433, 0.05601164]],\n",
              "\n",
              "        [[0.04580897, 0.00287433, 0.        ],\n",
              "         [0.00287433, 0.04580897, 0.        ],\n",
              "         [0.0026334 , 0.0026334 , 0.0513167 ]]],\n",
              "\n",
              "\n",
              "       [[[0.05      , 0.0031373 , 0.        ],\n",
              "         [0.0031373 , 0.05      , 0.        ],\n",
              "         [0.00287433, 0.00287433, 0.05601164]],\n",
              "\n",
              "        [[0.7968627 , 0.05      , 0.        ],\n",
              "         [0.05      , 0.7968627 , 0.        ],\n",
              "         [0.04580897, 0.04580897, 0.89267166]],\n",
              "\n",
              "        [[0.04580897, 0.00287433, 0.        ],\n",
              "         [0.00287433, 0.04580897, 0.        ],\n",
              "         [0.0026334 , 0.0026334 , 0.0513167 ]]],\n",
              "\n",
              "\n",
              "       [[[0.        , 0.        , 0.        ],\n",
              "         [0.        , 0.        , 0.        ],\n",
              "         [0.        , 0.        , 0.        ]],\n",
              "\n",
              "        [[0.        , 0.        , 0.        ],\n",
              "         [0.        , 0.        , 0.        ],\n",
              "         [0.        , 0.        , 0.        ]],\n",
              "\n",
              "        [[0.89267166, 0.05601164, 0.        ],\n",
              "         [0.05601164, 0.89267166, 0.        ],\n",
              "         [0.0513167 , 0.0513167 , 1.        ]]]])"
            ]
          },
          "metadata": {},
          "execution_count": 50
        }
      ],
      "source": [
        "np.multiply.outer(pt,pt.T)"
      ]
    },
    {
      "cell_type": "code",
      "execution_count": 54,
      "metadata": {},
      "outputs": [
        {
          "output_type": "execute_result",
          "data": {
            "text/plain": [
              "array([0.7968627, 0.0031373, 0.       ])"
            ]
          },
          "metadata": {},
          "execution_count": 54
        }
      ],
      "source": [
        "np.multiply(pt[0],pt.T[0])"
      ]
    },
    {
      "cell_type": "code",
      "execution_count": 69,
      "metadata": {},
      "outputs": [],
      "source": [
        "r = np.zeros((3,3,3))"
      ]
    },
    {
      "cell_type": "code",
      "execution_count": 86,
      "metadata": {},
      "outputs": [
        {
          "output_type": "execute_result",
          "data": {
            "text/plain": [
              "array([[[0.99607837, 0.00392163, 0.        ],\n",
              "        [0.5       , 0.5       , 0.        ],\n",
              "        [0.45808966, 0.02874332, 0.51316702]],\n",
              "\n",
              "       [[0.5       , 0.5       , 0.        ],\n",
              "        [0.00392163, 0.99607837, 0.        ],\n",
              "        [0.02874332, 0.45808966, 0.51316702]],\n",
              "\n",
              "       [[       nan,        nan,        nan],\n",
              "        [       nan,        nan,        nan],\n",
              "        [0.        , 0.        , 1.        ]]])"
            ]
          },
          "metadata": {},
          "execution_count": 86
        }
      ],
      "source": [
        "for i in range(len(pt)):\n",
        "    for j in range(len(pt)):\n",
        "        r[i,j] = np.multiply(pt[i], pt.T[j])/P[i,j]\n",
        "r"
      ]
    },
    {
      "cell_type": "code",
      "execution_count": 77,
      "metadata": {},
      "outputs": [],
      "source": [
        "r = np.einsum('ik,kj->ijk',pt,pt)"
      ]
    },
    {
      "cell_type": "code",
      "execution_count": null,
      "metadata": {},
      "outputs": [],
      "source": []
    },
    {
      "cell_type": "code",
      "execution_count": 78,
      "metadata": {},
      "outputs": [
        {
          "output_type": "execute_result",
          "data": {
            "text/plain": [
              "array([0.7968627, 0.0031373, 0.       ])"
            ]
          },
          "metadata": {},
          "execution_count": 78
        }
      ],
      "source": [
        "r[0,0]"
      ]
    },
    {
      "cell_type": "code",
      "execution_count": 84,
      "metadata": {},
      "outputs": [
        {
          "output_type": "execute_result",
          "data": {
            "text/plain": [
              "array([[0.8, 0.1, 0.1],\n",
              "       [0.1, 0.8, 0.1],\n",
              "       [0. , 0. , 1. ]])"
            ]
          },
          "metadata": {},
          "execution_count": 84
        }
      ],
      "source": [
        "P"
      ]
    },
    {
      "cell_type": "code",
      "execution_count": 83,
      "metadata": {},
      "outputs": [
        {
          "output_type": "execute_result",
          "data": {
            "text/plain": [
              "array([[[0.99607837, 0.03137303, 0.        ],\n",
              "        [0.5       , 0.0625    , 0.        ],\n",
              "        [       inf,        inf, 0.0513167 ]],\n",
              "\n",
              "       [[0.0625    , 0.5       , 0.        ],\n",
              "        [0.03137303, 0.99607837, 0.        ],\n",
              "        [       inf,        inf, 0.0513167 ]],\n",
              "\n",
              "       [[0.        , 0.        , 0.        ],\n",
              "        [0.        , 0.        , 0.        ],\n",
              "        [       nan,        nan, 1.        ]]])"
            ]
          },
          "metadata": {},
          "execution_count": 83
        }
      ],
      "source": [
        "r/P"
      ]
    },
    {
      "cell_type": "code",
      "execution_count": null,
      "metadata": {},
      "outputs": [],
      "source": [
        "a = ['A', 'B']\n",
        "b = ['A', 'C']\n",
        "\n"
      ]
    }
  ]
}